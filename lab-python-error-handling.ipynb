{
 "cells": [
  {
   "cell_type": "markdown",
   "id": "fbd6be2f-2233-4c4c-8285-53f3114345b3",
   "metadata": {},
   "source": [
    "Exercise: Error Handling for Managing Customer Orders\r\n",
    "The implementation of your code for managing customer orders assumes that the user will always enter a valid input.\r\n",
    "\r\n",
    "For example, we could modify the initialize_inventory function to include error handling.\r\n",
    "\r\n",
    "If the user enters an invalid quantity (e.g., a negative value or a non-numeric value), display an error message and ask them to re-enter the quantity for that product.\r\n",
    "Use a try-except block to handle the error and continue prompting the user until a valid quantity is entered."
   ]
  },
  {
   "cell_type": "markdown",
   "id": "2ca6f815-9048-459d-82e6-2c8606613325",
   "metadata": {},
   "source": [
    "2.Modify the calculate_total_price function to include error handling.\r\n",
    "\r\n",
    "If the user enters an invalid price (e.g., a negative value or a non-numeric value), display an error message and ask them to re-enter the price for that product.\r\n",
    "Use a try-except block to handle the error and continue prompting the user until a valid price is entered."
   ]
  },
  {
   "cell_type": "code",
   "execution_count": 4,
   "id": "82ac6ee7-d8ee-44fa-9b34-9906e772c1f0",
   "metadata": {},
   "outputs": [
    {
     "name": "stdin",
     "output_type": "stream",
     "text": [
      "Enter a quantity for t-shirt:  2\n",
      "Enter a quantity for mug:  3\n",
      "Enter a quantity for hat:  2\n",
      "Enter a quantity for book:  2\n",
      "Enter a quantity for keychain:  -2\n"
     ]
    },
    {
     "name": "stdout",
     "output_type": "stream",
     "text": [
      "Error: Invalid quantity! Quantity cannot be negative.\n"
     ]
    },
    {
     "name": "stdin",
     "output_type": "stream",
     "text": [
      "Enter a quantity for keychain:  2\n"
     ]
    },
    {
     "name": "stdout",
     "output_type": "stream",
     "text": [
      "{'t-shirt': 2, 'mug': 3, 'hat': 2, 'book': 2, 'keychain': 2}\n"
     ]
    },
    {
     "name": "stdin",
     "output_type": "stream",
     "text": [
      "Enter a quantity for t-shirt:  2\n",
      "Enter a quantity for mug:  -3\n"
     ]
    },
    {
     "name": "stdout",
     "output_type": "stream",
     "text": [
      "Error: Invalid quantity! Quantity cannot be negative.\n"
     ]
    },
    {
     "name": "stdin",
     "output_type": "stream",
     "text": [
      "Enter a quantity for mug:  2\n",
      "Enter a quantity for hat:  2\n",
      "Enter a quantity for book:  2\n",
      "Enter a quantity for keychain:  -5\n"
     ]
    },
    {
     "name": "stdout",
     "output_type": "stream",
     "text": [
      "Error: Invalid quantity! Quantity cannot be negative.\n"
     ]
    },
    {
     "name": "stdin",
     "output_type": "stream",
     "text": [
      "Enter a quantity for keychain:  2\n"
     ]
    },
    {
     "name": "stdout",
     "output_type": "stream",
     "text": [
      "Inventory after initializing: {'t-shirt': 2, 'mug': 2, 'hat': 2, 'book': 2, 'keychain': 2}\n"
     ]
    },
    {
     "name": "stdin",
     "output_type": "stream",
     "text": [
      "How many orders will be placed?  2\n",
      "Enter the product to include in the order:  hat\n",
      "Enter the product to include in the order:  mmh4\n"
     ]
    },
    {
     "name": "stdout",
     "output_type": "stream",
     "text": [
      "Error: mmh4 is either not in the inventory or unavailable.\n"
     ]
    },
    {
     "name": "stdin",
     "output_type": "stream",
     "text": [
      "Enter the product to include in the order:  mug\n"
     ]
    },
    {
     "name": "stdout",
     "output_type": "stream",
     "text": [
      "Customer order: ['hat', 'mug']\n"
     ]
    },
    {
     "name": "stdin",
     "output_type": "stream",
     "text": [
      "Enter the price of hat:  15\n",
      "Enter the price of mug:  -56\n"
     ]
    },
    {
     "name": "stdout",
     "output_type": "stream",
     "text": [
      "Error: Price must be a positive number. Please re-enter.\n"
     ]
    },
    {
     "name": "stdin",
     "output_type": "stream",
     "text": [
      "Enter the price of mug:  ff\n"
     ]
    },
    {
     "name": "stdout",
     "output_type": "stream",
     "text": [
      "Error: could not convert string to float: 'ff'\n"
     ]
    },
    {
     "name": "stdin",
     "output_type": "stream",
     "text": [
      "Enter the price of mug:  55\n"
     ]
    },
    {
     "name": "stdout",
     "output_type": "stream",
     "text": [
      "Total price: 70.0\n"
     ]
    }
   ],
   "source": [
    "list_products = [\"t-shirt\", \"mug\", \"hat\", \"book\", \"keychain\"]\n",
    "\n",
    "def initialize_inventory(products):\n",
    "        inventory = {}\n",
    "        for product in products:\n",
    "            valid_quantity = False\n",
    "            while not valid_quantity:\n",
    "                try:\n",
    "                    quantity = int(input(f\"Enter a quantity for {product}: \"))\n",
    "                    if quantity < 0:\n",
    "                        raise ValueError(\"Invalid quantity! Quantity cannot be negative.\")\n",
    "                    inventory[product] = quantity\n",
    "                    valid_quantity = True\n",
    "                except ValueError as e:\n",
    "                    print(f\"Error: {e}\")\n",
    "        return inventory\n",
    "    \n",
    "inventory = initialize_inventory(list_products)\n",
    "print(inventory)\n",
    "\n",
    "#2.Modify the function get_customer_orders so it prompts the user to enter the number of customer orders and gathers the product names using a loop and user input. Use comprehension.\n",
    "#list_products = [\"t-shirt\", \"mug\", \"hat\", \"book\", \"keychain\"]\n",
    "def get_customer_orders(inventory):\n",
    "        while True:\n",
    "            try:\n",
    "                number_orders = int(input(\"How many orders will be placed? \"))\n",
    "                if number_orders < 0:\n",
    "                    raise ValueError(\"Number of orders cannot be negative.\")\n",
    "                break\n",
    "            except ValueError as e:\n",
    "                print(f\"Error: {e}\")\n",
    "\n",
    "        order = []\n",
    "        for _ in range(number_orders):\n",
    "            while True:\n",
    "                try:\n",
    "                    product = input(\"Enter the product to include in the order: \")\n",
    "                    if product not in inventory or inventory[product] <= 0:\n",
    "                        raise ValueError(f\"{product} is either not in the inventory or unavailable.\")\n",
    "                    order.append(product)\n",
    "                    break\n",
    "                except ValueError as e:\n",
    "                    print(f\"Error: {e}\")\n",
    "        return order\n",
    "\n",
    "def calculate_total_price(customer_order):\n",
    "        price_of_product = {}\n",
    "        for item in customer_order:\n",
    "            while True:\n",
    "                try:\n",
    "                    price = float(input(f\"Enter the price of {item}: \"))\n",
    "                    if price <= 0:\n",
    "                        raise ValueError(\"Price must be a positive number. Please re-enter.\")\n",
    "                    price_of_product[item] = price\n",
    "                    break\n",
    "                except ValueError as error:\n",
    "                    print(f\"Error: {error}\")\n",
    "        total_price = sum(price_of_product.values())\n",
    "        return total_price\n",
    "\n",
    "# Run the full sequence to test\n",
    "products = [\"t-shirt\", \"mug\", \"hat\", \"book\", \"keychain\"]\n",
    "inventory = initialize_inventory(products)\n",
    "print(\"Inventory after initializing:\", inventory)\n",
    "customer_order = get_customer_orders(inventory)\n",
    "print(\"Customer order:\", customer_order)\n",
    "total = calculate_total_price(customer_order)\n",
    "print(\"Total price:\", total)\n"
   ]
  }
 ],
 "metadata": {
  "kernelspec": {
   "display_name": "Python 3 (ipykernel)",
   "language": "python",
   "name": "python3"
  },
  "language_info": {
   "codemirror_mode": {
    "name": "ipython",
    "version": 3
   },
   "file_extension": ".py",
   "mimetype": "text/x-python",
   "name": "python",
   "nbconvert_exporter": "python",
   "pygments_lexer": "ipython3",
   "version": "3.12.4"
  }
 },
 "nbformat": 4,
 "nbformat_minor": 5
}
