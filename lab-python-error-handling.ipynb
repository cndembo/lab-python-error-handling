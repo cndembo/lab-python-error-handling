{
 "cells": [
  {
   "cell_type": "markdown",
   "id": "fbd6be2f-2233-4c4c-8285-53f3114345b3",
   "metadata": {},
   "source": [
    "Exercise: Error Handling for Managing Customer Orders\r\n",
    "The implementation of your code for managing customer orders assumes that the user will always enter a valid input.\r\n",
    "\r\n",
    "For example, we could modify the initialize_inventory function to include error handling.\r\n",
    "\r\n",
    "If the user enters an invalid quantity (e.g., a negative value or a non-numeric value), display an error message and ask them to re-enter the quantity for that product.\r\n",
    "Use a try-except block to handle the error and continue prompting the user until a valid quantity is entered."
   ]
  },
  {
   "cell_type": "markdown",
   "id": "2ca6f815-9048-459d-82e6-2c8606613325",
   "metadata": {},
   "source": [
    "2.Modify the calculate_total_price function to include error handling.\r\n",
    "\r\n",
    "If the user enters an invalid price (e.g., a negative value or a non-numeric value), display an error message and ask them to re-enter the price for that product.\r\n",
    "Use a try-except block to handle the error and continue prompting the user until a valid price is entered."
   ]
  },
  {
   "cell_type": "code",
   "execution_count": 7,
   "id": "82ac6ee7-d8ee-44fa-9b34-9906e772c1f0",
   "metadata": {},
   "outputs": [
    {
     "name": "stdin",
     "output_type": "stream",
     "text": [
      "Enter a quantity for t-shirt 2\n",
      "Enter a quantity for mug 2\n",
      "Enter a quantity for hat 2\n",
      "Enter a quantity for book 2\n",
      "Enter a quantity for keychain 2\n"
     ]
    },
    {
     "name": "stdout",
     "output_type": "stream",
     "text": [
      "{'t-shirt': 2, 'mug': 2, 'hat': 2, 'book': 2, 'keychain': 2}\n",
      "List of available products:{'t-shirt': 2, 'mug': 2, 'hat': 2, 'book': 2, 'keychain': 2}\n",
      "\n"
     ]
    },
    {
     "name": "stdin",
     "output_type": "stream",
     "text": [
      "How name orders will be placed? 2\n",
      "Enter the product to include in the order: hat\n",
      "Enter the product to include in the order: mug\n",
      "Enter the price of hat -56\n",
      "Enter the price of mug 56\n"
     ]
    },
    {
     "name": "stdout",
     "output_type": "stream",
     "text": [
      "Error: Please enter a positive number! Re-enter the price\n"
     ]
    },
    {
     "ename": "UnboundLocalError",
     "evalue": "cannot access local variable 'total_price' where it is not associated with a value",
     "output_type": "error",
     "traceback": [
      "\u001b[1;31m---------------------------------------------------------------------------\u001b[0m",
      "\u001b[1;31mUnboundLocalError\u001b[0m                         Traceback (most recent call last)",
      "Cell \u001b[1;32mIn[7], line 51\u001b[0m\n\u001b[0;32m     47\u001b[0m             \u001b[38;5;28mprint\u001b[39m(\u001b[38;5;124mf\u001b[39m\u001b[38;5;124m\"\u001b[39m\u001b[38;5;124mError: \u001b[39m\u001b[38;5;132;01m{\u001b[39;00merror\u001b[38;5;132;01m}\u001b[39;00m\u001b[38;5;124m\"\u001b[39m)\n\u001b[0;32m     49\u001b[0m     \u001b[38;5;28;01mreturn\u001b[39;00m total_price\n\u001b[1;32m---> 51\u001b[0m total \u001b[38;5;241m=\u001b[39m \u001b[43mcalculate_total_price\u001b[49m\u001b[43m(\u001b[49m\u001b[43m)\u001b[49m\n",
      "Cell \u001b[1;32mIn[7], line 49\u001b[0m, in \u001b[0;36mcalculate_total_price\u001b[1;34m()\u001b[0m\n\u001b[0;32m     46\u001b[0m \u001b[38;5;28;01mexcept\u001b[39;00m \u001b[38;5;167;01mValueError\u001b[39;00m \u001b[38;5;28;01mas\u001b[39;00m error:\n\u001b[0;32m     47\u001b[0m         \u001b[38;5;28mprint\u001b[39m(\u001b[38;5;124mf\u001b[39m\u001b[38;5;124m\"\u001b[39m\u001b[38;5;124mError: \u001b[39m\u001b[38;5;132;01m{\u001b[39;00merror\u001b[38;5;132;01m}\u001b[39;00m\u001b[38;5;124m\"\u001b[39m)\n\u001b[1;32m---> 49\u001b[0m \u001b[38;5;28;01mreturn\u001b[39;00m \u001b[43mtotal_price\u001b[49m\n",
      "\u001b[1;31mUnboundLocalError\u001b[0m: cannot access local variable 'total_price' where it is not associated with a value"
     ]
    }
   ],
   "source": [
    "list_products = [\"t-shirt\", \"mug\", \"hat\", \"book\", \"keychain\"]\n",
    "\n",
    "def initialize_inventory(products):\n",
    "    inventory={product: int(input(f\"Enter a quantity for {product}\")) for product in products}\n",
    "    return inventory\n",
    "    \n",
    "inventory = initialize_inventory(list_products)\n",
    "print(inventory)\n",
    "\n",
    "#2.Modify the function get_customer_orders so it prompts the user to enter the number of customer orders and gathers the product names using a loop and user input. Use comprehension.\n",
    "#list_products = [\"t-shirt\", \"mug\", \"hat\", \"book\", \"keychain\"]\n",
    "def get_customer_orders():\n",
    "    \n",
    "    #customer_items = set()#initializing the set that will store the products ordered by the customer\n",
    "    print(f\"List of available products:{inventory}\\n\") #informing the customer wich products are available\n",
    "\n",
    "    #1 - Enter the number of orders that will be placed?;\n",
    "    number_orders = int(input(\"How name orders will be placed?\")) \n",
    "\n",
    "    #2 - Gather the product names for each order!\n",
    "    order = [val for i in range(number_orders) if(val:=input(f\"Enter the product to include in the order:\")) in list_products]\n",
    "    #print(order)\n",
    "    #loop to handle and remove the unavailable items\n",
    "    for item in order:\n",
    "        if inventory[item]==0:\n",
    "            print(f\"\\n{item} is not available for your order!\")\n",
    "            order.remove(item)\n",
    "            \n",
    "    return order\n",
    "customer_order = get_customer_orders()\n",
    "#print(f\"\\nThe customer ordered:\\n {customer_order}\")\n",
    "\n",
    "def calculate_total_price():\n",
    "    #Prompt the user to enter the price of each product in the order list. Stored it in a dictionary\n",
    "    try:\n",
    "        price_of_product = {item:float(input(f\"Enter the price of {item}\")) for item in customer_order}\n",
    "        for item, price in price_of_product.items():\n",
    "            if price <= 0:\n",
    "                raise ValueError(\"Please enter a positive number! Re-enter the price\")\n",
    "        \n",
    "        \n",
    "#           print(price_of_product)\n",
    "            total_price = sum(price_of_product.values()) #don't need to use list comprehension. Sum funtcion calcultes the total\n",
    "            #print(f\"Total price of the order is {total_price}€\")\n",
    "    except ValueError as error:\n",
    "            print(f\"Error: {error}\")\n",
    "\n",
    "return total_price\n",
    "\n",
    "total = calculate_total_price()\n"
   ]
  },
  {
   "cell_type": "markdown",
   "id": "c8d7eb63-ac2d-4f21-a01e-07c8dcf4c25e",
   "metadata": {},
   "source": [
    "Modify the get_customer_orders function to include error handling.\r\n",
    "\r\n",
    "If the user enters an invalid number of orders (e.g., a negative value or a non-numeric value), display an error message and ask them to re-enter the number of orders.\r\n",
    "If the user enters an invalid product name (e.g., a product name that is not in the inventory), or that doesn't have stock available, display an error message and ask them to re-enter the product name. Hint: you will need to pass inventory as a parameter\r\n",
    "Use a try-except block to handle the error and continue prompting the user until a valid product name is entered."
   ]
  },
  {
   "cell_type": "code",
   "execution_count": null,
   "id": "3176303d-dc89-4f71-8bdc-04b989fc8b92",
   "metadata": {},
   "outputs": [],
   "source": []
  },
  {
   "cell_type": "markdown",
   "id": "d858da7c-f6b6-4ead-9f83-fcf0d0d3ec52",
   "metadata": {},
   "source": [
    "4.Test your code by running the program and deliberately entering invalid quantities and product names. \n",
    "Make sure the error handling mechanism works as expected."
   ]
  },
  {
   "cell_type": "code",
   "execution_count": null,
   "id": "21e2ba9d-5ebe-42ef-b42d-e67ecbf9510c",
   "metadata": {},
   "outputs": [],
   "source": []
  }
 ],
 "metadata": {
  "kernelspec": {
   "display_name": "Python 3 (ipykernel)",
   "language": "python",
   "name": "python3"
  },
  "language_info": {
   "codemirror_mode": {
    "name": "ipython",
    "version": 3
   },
   "file_extension": ".py",
   "mimetype": "text/x-python",
   "name": "python",
   "nbconvert_exporter": "python",
   "pygments_lexer": "ipython3",
   "version": "3.12.4"
  }
 },
 "nbformat": 4,
 "nbformat_minor": 5
}
